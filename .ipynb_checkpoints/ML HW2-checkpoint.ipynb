{
 "cells": [
  {
   "cell_type": "markdown",
   "metadata": {},
   "source": [
    "# 1- Importing needed libraries and packages :"
   ]
  },
  {
   "cell_type": "code",
   "execution_count": 1,
   "metadata": {},
   "outputs": [],
   "source": [
    "import pandas as pd\n",
    "import numpy as np\n",
    "import matplotlib.pyplot as plt\n",
    "import seaborn as sns\n",
    "from sklearn.experimental import enable_iterative_imputer\n",
    "from sklearn.impute import IterativeImputer,KNNImputer,SimpleImputer, MissingIndicator\n",
    "# from sklearn.tree import DecisionTreeClassifier\n",
    "# from yellowbrick.features import FeatureImportances"
   ]
  },
  {
   "cell_type": "markdown",
   "metadata": {},
   "source": [
    "# 2- Prepare the data :"
   ]
  },
  {
   "cell_type": "code",
   "execution_count": 2,
   "metadata": {},
   "outputs": [],
   "source": [
    "# Sales dataset\n",
    "sales = pd.read_csv(\"sales.csv\")\n",
    "\n",
    "# Key dataset\n",
    "key = pd.read_csv(\"key.csv\")\n",
    "\n",
    "# Weather dataset\n",
    "weather = pd.read_csv(\"weather.csv\")"
   ]
  },
  {
   "cell_type": "markdown",
   "metadata": {},
   "source": [
    "# 3- Section A (Data Exploration and Visualization) :\n",
    "\n",
    "## Sales dataset - Exploration:"
   ]
  },
  {
   "cell_type": "code",
   "execution_count": 3,
   "metadata": {},
   "outputs": [
    {
     "name": "stdout",
     "output_type": "stream",
     "text": [
      "<class 'pandas.core.frame.DataFrame'>\n",
      "RangeIndex: 4617600 entries, 0 to 4617599\n",
      "Data columns (total 4 columns):\n",
      " #   Column     Dtype \n",
      "---  ------     ----- \n",
      " 0   date       object\n",
      " 1   store_nbr  int64 \n",
      " 2   item_nbr   int64 \n",
      " 3   units      int64 \n",
      "dtypes: int64(3), object(1)\n",
      "memory usage: 140.9+ MB\n"
     ]
    },
    {
     "data": {
      "text/plain": [
       "None"
      ]
     },
     "metadata": {},
     "output_type": "display_data"
    },
    {
     "data": {
      "text/html": [
       "<div>\n",
       "<style scoped>\n",
       "    .dataframe tbody tr th:only-of-type {\n",
       "        vertical-align: middle;\n",
       "    }\n",
       "\n",
       "    .dataframe tbody tr th {\n",
       "        vertical-align: top;\n",
       "    }\n",
       "\n",
       "    .dataframe thead th {\n",
       "        text-align: right;\n",
       "    }\n",
       "</style>\n",
       "<table border=\"1\" class=\"dataframe\">\n",
       "  <thead>\n",
       "    <tr style=\"text-align: right;\">\n",
       "      <th></th>\n",
       "      <th>store_nbr</th>\n",
       "      <th>item_nbr</th>\n",
       "      <th>units</th>\n",
       "    </tr>\n",
       "  </thead>\n",
       "  <tbody>\n",
       "    <tr>\n",
       "      <th>count</th>\n",
       "      <td>4.617600e+06</td>\n",
       "      <td>4.617600e+06</td>\n",
       "      <td>4.617600e+06</td>\n",
       "    </tr>\n",
       "    <tr>\n",
       "      <th>mean</th>\n",
       "      <td>2.309108e+01</td>\n",
       "      <td>5.600000e+01</td>\n",
       "      <td>9.868756e-01</td>\n",
       "    </tr>\n",
       "    <tr>\n",
       "      <th>std</th>\n",
       "      <td>1.295281e+01</td>\n",
       "      <td>3.204164e+01</td>\n",
       "      <td>9.875798e+00</td>\n",
       "    </tr>\n",
       "    <tr>\n",
       "      <th>min</th>\n",
       "      <td>1.000000e+00</td>\n",
       "      <td>1.000000e+00</td>\n",
       "      <td>0.000000e+00</td>\n",
       "    </tr>\n",
       "    <tr>\n",
       "      <th>25%</th>\n",
       "      <td>1.200000e+01</td>\n",
       "      <td>2.800000e+01</td>\n",
       "      <td>0.000000e+00</td>\n",
       "    </tr>\n",
       "    <tr>\n",
       "      <th>50%</th>\n",
       "      <td>2.300000e+01</td>\n",
       "      <td>5.600000e+01</td>\n",
       "      <td>0.000000e+00</td>\n",
       "    </tr>\n",
       "    <tr>\n",
       "      <th>75%</th>\n",
       "      <td>3.400000e+01</td>\n",
       "      <td>8.400000e+01</td>\n",
       "      <td>0.000000e+00</td>\n",
       "    </tr>\n",
       "    <tr>\n",
       "      <th>max</th>\n",
       "      <td>4.500000e+01</td>\n",
       "      <td>1.110000e+02</td>\n",
       "      <td>5.568000e+03</td>\n",
       "    </tr>\n",
       "  </tbody>\n",
       "</table>\n",
       "</div>"
      ],
      "text/plain": [
       "          store_nbr      item_nbr         units\n",
       "count  4.617600e+06  4.617600e+06  4.617600e+06\n",
       "mean   2.309108e+01  5.600000e+01  9.868756e-01\n",
       "std    1.295281e+01  3.204164e+01  9.875798e+00\n",
       "min    1.000000e+00  1.000000e+00  0.000000e+00\n",
       "25%    1.200000e+01  2.800000e+01  0.000000e+00\n",
       "50%    2.300000e+01  5.600000e+01  0.000000e+00\n",
       "75%    3.400000e+01  8.400000e+01  0.000000e+00\n",
       "max    4.500000e+01  1.110000e+02  5.568000e+03"
      ]
     },
     "metadata": {},
     "output_type": "display_data"
    }
   ],
   "source": [
    "display(sales.info())\n",
    "display(sales.describe())"
   ]
  },
  {
   "cell_type": "markdown",
   "metadata": {},
   "source": [
    " There is no missing values, date is object so before we keep going with visualizations we have to cast it to datetime"
   ]
  },
  {
   "cell_type": "code",
   "execution_count": 4,
   "metadata": {},
   "outputs": [
    {
     "name": "stdout",
     "output_type": "stream",
     "text": [
      "<class 'pandas.core.frame.DataFrame'>\n",
      "RangeIndex: 4617600 entries, 0 to 4617599\n",
      "Data columns (total 4 columns):\n",
      " #   Column     Dtype         \n",
      "---  ------     -----         \n",
      " 0   date       datetime64[ns]\n",
      " 1   store_nbr  int64         \n",
      " 2   item_nbr   int64         \n",
      " 3   units      int64         \n",
      "dtypes: datetime64[ns](1), int64(3)\n",
      "memory usage: 140.9 MB\n"
     ]
    },
    {
     "data": {
      "text/plain": [
       "None"
      ]
     },
     "metadata": {},
     "output_type": "display_data"
    },
    {
     "data": {
      "text/html": [
       "<div>\n",
       "<style scoped>\n",
       "    .dataframe tbody tr th:only-of-type {\n",
       "        vertical-align: middle;\n",
       "    }\n",
       "\n",
       "    .dataframe tbody tr th {\n",
       "        vertical-align: top;\n",
       "    }\n",
       "\n",
       "    .dataframe thead th {\n",
       "        text-align: right;\n",
       "    }\n",
       "</style>\n",
       "<table border=\"1\" class=\"dataframe\">\n",
       "  <thead>\n",
       "    <tr style=\"text-align: right;\">\n",
       "      <th></th>\n",
       "      <th>store_nbr</th>\n",
       "      <th>item_nbr</th>\n",
       "      <th>units</th>\n",
       "    </tr>\n",
       "  </thead>\n",
       "  <tbody>\n",
       "    <tr>\n",
       "      <th>count</th>\n",
       "      <td>4.617600e+06</td>\n",
       "      <td>4.617600e+06</td>\n",
       "      <td>4.617600e+06</td>\n",
       "    </tr>\n",
       "    <tr>\n",
       "      <th>mean</th>\n",
       "      <td>2.309108e+01</td>\n",
       "      <td>5.600000e+01</td>\n",
       "      <td>9.868756e-01</td>\n",
       "    </tr>\n",
       "    <tr>\n",
       "      <th>std</th>\n",
       "      <td>1.295281e+01</td>\n",
       "      <td>3.204164e+01</td>\n",
       "      <td>9.875798e+00</td>\n",
       "    </tr>\n",
       "    <tr>\n",
       "      <th>min</th>\n",
       "      <td>1.000000e+00</td>\n",
       "      <td>1.000000e+00</td>\n",
       "      <td>0.000000e+00</td>\n",
       "    </tr>\n",
       "    <tr>\n",
       "      <th>25%</th>\n",
       "      <td>1.200000e+01</td>\n",
       "      <td>2.800000e+01</td>\n",
       "      <td>0.000000e+00</td>\n",
       "    </tr>\n",
       "    <tr>\n",
       "      <th>50%</th>\n",
       "      <td>2.300000e+01</td>\n",
       "      <td>5.600000e+01</td>\n",
       "      <td>0.000000e+00</td>\n",
       "    </tr>\n",
       "    <tr>\n",
       "      <th>75%</th>\n",
       "      <td>3.400000e+01</td>\n",
       "      <td>8.400000e+01</td>\n",
       "      <td>0.000000e+00</td>\n",
       "    </tr>\n",
       "    <tr>\n",
       "      <th>max</th>\n",
       "      <td>4.500000e+01</td>\n",
       "      <td>1.110000e+02</td>\n",
       "      <td>5.568000e+03</td>\n",
       "    </tr>\n",
       "  </tbody>\n",
       "</table>\n",
       "</div>"
      ],
      "text/plain": [
       "          store_nbr      item_nbr         units\n",
       "count  4.617600e+06  4.617600e+06  4.617600e+06\n",
       "mean   2.309108e+01  5.600000e+01  9.868756e-01\n",
       "std    1.295281e+01  3.204164e+01  9.875798e+00\n",
       "min    1.000000e+00  1.000000e+00  0.000000e+00\n",
       "25%    1.200000e+01  2.800000e+01  0.000000e+00\n",
       "50%    2.300000e+01  5.600000e+01  0.000000e+00\n",
       "75%    3.400000e+01  8.400000e+01  0.000000e+00\n",
       "max    4.500000e+01  1.110000e+02  5.568000e+03"
      ]
     },
     "metadata": {},
     "output_type": "display_data"
    },
    {
     "data": {
      "text/html": [
       "<div>\n",
       "<style scoped>\n",
       "    .dataframe tbody tr th:only-of-type {\n",
       "        vertical-align: middle;\n",
       "    }\n",
       "\n",
       "    .dataframe tbody tr th {\n",
       "        vertical-align: top;\n",
       "    }\n",
       "\n",
       "    .dataframe thead th {\n",
       "        text-align: right;\n",
       "    }\n",
       "</style>\n",
       "<table border=\"1\" class=\"dataframe\">\n",
       "  <thead>\n",
       "    <tr style=\"text-align: right;\">\n",
       "      <th></th>\n",
       "      <th>date</th>\n",
       "      <th>store_nbr</th>\n",
       "      <th>item_nbr</th>\n",
       "      <th>units</th>\n",
       "    </tr>\n",
       "  </thead>\n",
       "  <tbody>\n",
       "    <tr>\n",
       "      <th>4259475</th>\n",
       "      <td>2014-08-05</td>\n",
       "      <td>8</td>\n",
       "      <td>73</td>\n",
       "      <td>0</td>\n",
       "    </tr>\n",
       "    <tr>\n",
       "      <th>2442423</th>\n",
       "      <td>2013-05-16</td>\n",
       "      <td>31</td>\n",
       "      <td>91</td>\n",
       "      <td>0</td>\n",
       "    </tr>\n",
       "    <tr>\n",
       "      <th>1251291</th>\n",
       "      <td>2012-09-10</td>\n",
       "      <td>40</td>\n",
       "      <td>100</td>\n",
       "      <td>0</td>\n",
       "    </tr>\n",
       "    <tr>\n",
       "      <th>802897</th>\n",
       "      <td>2012-06-13</td>\n",
       "      <td>6</td>\n",
       "      <td>35</td>\n",
       "      <td>0</td>\n",
       "    </tr>\n",
       "    <tr>\n",
       "      <th>1301443</th>\n",
       "      <td>2012-09-20</td>\n",
       "      <td>42</td>\n",
       "      <td>80</td>\n",
       "      <td>0</td>\n",
       "    </tr>\n",
       "    <tr>\n",
       "      <th>42674</th>\n",
       "      <td>2012-01-09</td>\n",
       "      <td>33</td>\n",
       "      <td>51</td>\n",
       "      <td>0</td>\n",
       "    </tr>\n",
       "    <tr>\n",
       "      <th>1486948</th>\n",
       "      <td>2012-10-28</td>\n",
       "      <td>3</td>\n",
       "      <td>104</td>\n",
       "      <td>0</td>\n",
       "    </tr>\n",
       "    <tr>\n",
       "      <th>1607325</th>\n",
       "      <td>2012-11-21</td>\n",
       "      <td>8</td>\n",
       "      <td>46</td>\n",
       "      <td>0</td>\n",
       "    </tr>\n",
       "    <tr>\n",
       "      <th>979863</th>\n",
       "      <td>2012-07-18</td>\n",
       "      <td>25</td>\n",
       "      <td>67</td>\n",
       "      <td>0</td>\n",
       "    </tr>\n",
       "    <tr>\n",
       "      <th>1778378</th>\n",
       "      <td>2012-12-26</td>\n",
       "      <td>19</td>\n",
       "      <td>48</td>\n",
       "      <td>0</td>\n",
       "    </tr>\n",
       "  </tbody>\n",
       "</table>\n",
       "</div>"
      ],
      "text/plain": [
       "              date  store_nbr  item_nbr  units\n",
       "4259475 2014-08-05          8        73      0\n",
       "2442423 2013-05-16         31        91      0\n",
       "1251291 2012-09-10         40       100      0\n",
       "802897  2012-06-13          6        35      0\n",
       "1301443 2012-09-20         42        80      0\n",
       "42674   2012-01-09         33        51      0\n",
       "1486948 2012-10-28          3       104      0\n",
       "1607325 2012-11-21          8        46      0\n",
       "979863  2012-07-18         25        67      0\n",
       "1778378 2012-12-26         19        48      0"
      ]
     },
     "metadata": {},
     "output_type": "display_data"
    },
    {
     "data": {
      "image/png": "[encoded data removed]",
      "text/plain": [
       "<Figure size 432x288 with 2 Axes>"
      ]
     },
     "metadata": {
      "needs_background": "light"
     },
     "output_type": "display_data"
    }
   ],
   "source": [
    "sales['date'] = pd.to_datetime(sales['date'])\n",
    "display(sales.info())\n",
    "display(sales.describe())\n",
    "display(sales.sample(10))\n",
    "sns.heatmap(sales.corr(), annot=True)\n",
    "plt.title(\"Features correlation in Sales dataset\", fontsize=18, color = \"red\")\n",
    "plt.show()\n",
    "#sns.barplot(data=sales,x=\"item_nbr\", y=\"units\")\n",
    "#plt.title(\"Units per item_nbr\", fontsize=18, color=\"blue\")\n",
    "#plt.show()"
   ]
  },
  {
   "cell_type": "markdown",
   "metadata": {},
   "source": [
    " This dataset is showing in each store in each date which items were sold and the number of sells for this item."
   ]
  },
  {
   "cell_type": "markdown",
   "metadata": {},
   "source": [
    "### Key dataset :"
   ]
  },
  {
   "cell_type": "code",
   "execution_count": 5,
   "metadata": {},
   "outputs": [
    {
     "name": "stdout",
     "output_type": "stream",
     "text": [
      "<class 'pandas.core.frame.DataFrame'>\n",
      "RangeIndex: 45 entries, 0 to 44\n",
      "Data columns (total 2 columns):\n",
      " #   Column       Non-Null Count  Dtype\n",
      "---  ------       --------------  -----\n",
      " 0   store_nbr    45 non-null     int64\n",
      " 1   station_nbr  45 non-null     int64\n",
      "dtypes: int64(2)\n",
      "memory usage: 848.0 bytes\n"
     ]
    },
    {
     "data": {
      "text/plain": [
       "None"
      ]
     },
     "metadata": {},
     "output_type": "display_data"
    },
    {
     "data": {
      "text/html": [
       "<div>\n",
       "<style scoped>\n",
       "    .dataframe tbody tr th:only-of-type {\n",
       "        vertical-align: middle;\n",
       "    }\n",
       "\n",
       "    .dataframe tbody tr th {\n",
       "        vertical-align: top;\n",
       "    }\n",
       "\n",
       "    .dataframe thead th {\n",
       "        text-align: right;\n",
       "    }\n",
       "</style>\n",
       "<table border=\"1\" class=\"dataframe\">\n",
       "  <thead>\n",
       "    <tr style=\"text-align: right;\">\n",
       "      <th></th>\n",
       "      <th>store_nbr</th>\n",
       "      <th>station_nbr</th>\n",
       "    </tr>\n",
       "  </thead>\n",
       "  <tbody>\n",
       "    <tr>\n",
       "      <th>count</th>\n",
       "      <td>45.000000</td>\n",
       "      <td>45.000000</td>\n",
       "    </tr>\n",
       "    <tr>\n",
       "      <th>mean</th>\n",
       "      <td>23.000000</td>\n",
       "      <td>11.266667</td>\n",
       "    </tr>\n",
       "    <tr>\n",
       "      <th>std</th>\n",
       "      <td>13.133926</td>\n",
       "      <td>5.019960</td>\n",
       "    </tr>\n",
       "    <tr>\n",
       "      <th>min</th>\n",
       "      <td>1.000000</td>\n",
       "      <td>1.000000</td>\n",
       "    </tr>\n",
       "    <tr>\n",
       "      <th>25%</th>\n",
       "      <td>12.000000</td>\n",
       "      <td>7.000000</td>\n",
       "    </tr>\n",
       "    <tr>\n",
       "      <th>50%</th>\n",
       "      <td>23.000000</td>\n",
       "      <td>12.000000</td>\n",
       "    </tr>\n",
       "    <tr>\n",
       "      <th>75%</th>\n",
       "      <td>34.000000</td>\n",
       "      <td>15.000000</td>\n",
       "    </tr>\n",
       "    <tr>\n",
       "      <th>max</th>\n",
       "      <td>45.000000</td>\n",
       "      <td>20.000000</td>\n",
       "    </tr>\n",
       "  </tbody>\n",
       "</table>\n",
       "</div>"
      ],
      "text/plain": [
       "       store_nbr  station_nbr\n",
       "count  45.000000    45.000000\n",
       "mean   23.000000    11.266667\n",
       "std    13.133926     5.019960\n",
       "min     1.000000     1.000000\n",
       "25%    12.000000     7.000000\n",
       "50%    23.000000    12.000000\n",
       "75%    34.000000    15.000000\n",
       "max    45.000000    20.000000"
      ]
     },
     "metadata": {},
     "output_type": "display_data"
    }
   ],
   "source": [
    "display(key.info())\n",
    "display(key.describe())"
   ]
  },
  {
   "cell_type": "markdown",
   "metadata": {},
   "source": [
    " There is no missing data nor object columns."
   ]
  },
  {
   "cell_type": "code",
   "execution_count": 6,
   "metadata": {
    "scrolled": false
   },
   "outputs": [
    {
     "data": {
      "text/html": [
       "<div>\n",
       "<style scoped>\n",
       "    .dataframe tbody tr th:only-of-type {\n",
       "        vertical-align: middle;\n",
       "    }\n",
       "\n",
       "    .dataframe tbody tr th {\n",
       "        vertical-align: top;\n",
       "    }\n",
       "\n",
       "    .dataframe thead th {\n",
       "        text-align: right;\n",
       "    }\n",
       "</style>\n",
       "<table border=\"1\" class=\"dataframe\">\n",
       "  <thead>\n",
       "    <tr style=\"text-align: right;\">\n",
       "      <th></th>\n",
       "      <th>store_nbr</th>\n",
       "      <th>station_nbr</th>\n",
       "    </tr>\n",
       "  </thead>\n",
       "  <tbody>\n",
       "    <tr>\n",
       "      <th>6</th>\n",
       "      <td>7</td>\n",
       "      <td>6</td>\n",
       "    </tr>\n",
       "    <tr>\n",
       "      <th>5</th>\n",
       "      <td>6</td>\n",
       "      <td>14</td>\n",
       "    </tr>\n",
       "    <tr>\n",
       "      <th>19</th>\n",
       "      <td>20</td>\n",
       "      <td>7</td>\n",
       "    </tr>\n",
       "    <tr>\n",
       "      <th>14</th>\n",
       "      <td>15</td>\n",
       "      <td>13</td>\n",
       "    </tr>\n",
       "    <tr>\n",
       "      <th>32</th>\n",
       "      <td>33</td>\n",
       "      <td>3</td>\n",
       "    </tr>\n",
       "    <tr>\n",
       "      <th>21</th>\n",
       "      <td>22</td>\n",
       "      <td>10</td>\n",
       "    </tr>\n",
       "    <tr>\n",
       "      <th>44</th>\n",
       "      <td>45</td>\n",
       "      <td>16</td>\n",
       "    </tr>\n",
       "    <tr>\n",
       "      <th>35</th>\n",
       "      <td>36</td>\n",
       "      <td>18</td>\n",
       "    </tr>\n",
       "    <tr>\n",
       "      <th>43</th>\n",
       "      <td>44</td>\n",
       "      <td>12</td>\n",
       "    </tr>\n",
       "    <tr>\n",
       "      <th>33</th>\n",
       "      <td>34</td>\n",
       "      <td>17</td>\n",
       "    </tr>\n",
       "  </tbody>\n",
       "</table>\n",
       "</div>"
      ],
      "text/plain": [
       "    store_nbr  station_nbr\n",
       "6           7            6\n",
       "5           6           14\n",
       "19         20            7\n",
       "14         15           13\n",
       "32         33            3\n",
       "21         22           10\n",
       "44         45           16\n",
       "35         36           18\n",
       "43         44           12\n",
       "33         34           17"
      ]
     },
     "metadata": {},
     "output_type": "display_data"
    },
    {
     "data": {
      "image/png": "[encoded data removed]",
      "text/plain": [
       "<Figure size 432x288 with 2 Axes>"
      ]
     },
     "metadata": {
      "needs_background": "light"
     },
     "output_type": "display_data"
    },
    {
     "data": {
      "image/png": "[encoded data removed]",
      "text/plain": [
       "<Figure size 432x288 with 1 Axes>"
      ]
     },
     "metadata": {
      "needs_background": "light"
     },
     "output_type": "display_data"
    }
   ],
   "source": [
    "display(key.sample(10))\n",
    "sns.heatmap(key.corr(), annot=True)\n",
    "plt.title(\"Features correlation in Key dataset\", fontsize=18, color = \"red\")\n",
    "plt.show()\n",
    "sns.scatterplot(data=key, x= \"store_nbr\", y= \"station_nbr\")\n",
    "plt.title(\"store_nbr Vs. station_nbr\", fontsize= 18, color= \"blue\")\n",
    "plt.show()"
   ]
  },
  {
   "cell_type": "markdown",
   "metadata": {},
   "source": [
    " This dataset is used only to see each store is served by which station. "
   ]
  },
  {
   "cell_type": "markdown",
   "metadata": {},
   "source": [
    "## Weather dataset :"
   ]
  },
  {
   "cell_type": "code",
   "execution_count": 7,
   "metadata": {},
   "outputs": [
    {
     "name": "stdout",
     "output_type": "stream",
     "text": [
      "<class 'pandas.core.frame.DataFrame'>\n",
      "RangeIndex: 20517 entries, 0 to 20516\n",
      "Data columns (total 20 columns):\n",
      " #   Column       Non-Null Count  Dtype \n",
      "---  ------       --------------  ----- \n",
      " 0   station_nbr  20517 non-null  int64 \n",
      " 1   date         20517 non-null  object\n",
      " 2   tmax         20517 non-null  object\n",
      " 3   tmin         20517 non-null  object\n",
      " 4   tavg         20517 non-null  object\n",
      " 5   depart       20517 non-null  object\n",
      " 6   dewpoint     20517 non-null  object\n",
      " 7   wetbulb      20517 non-null  object\n",
      " 8   heat         20517 non-null  object\n",
      " 9   cool         20517 non-null  object\n",
      " 10  sunrise      20517 non-null  object\n",
      " 11  sunset       20517 non-null  object\n",
      " 12  codesum      20517 non-null  object\n",
      " 13  snowfall     20517 non-null  object\n",
      " 14  preciptotal  20517 non-null  object\n",
      " 15  stnpressure  20517 non-null  object\n",
      " 16  sealevel     20517 non-null  object\n",
      " 17  resultspeed  20517 non-null  object\n",
      " 18  resultdir    20517 non-null  object\n",
      " 19  avgspeed     20517 non-null  object\n",
      "dtypes: int64(1), object(19)\n",
      "memory usage: 3.1+ MB\n"
     ]
    },
    {
     "data": {
      "text/plain": [
       "None"
      ]
     },
     "metadata": {},
     "output_type": "display_data"
    },
    {
     "data": {
      "text/html": [
       "<div>\n",
       "<style scoped>\n",
       "    .dataframe tbody tr th:only-of-type {\n",
       "        vertical-align: middle;\n",
       "    }\n",
       "\n",
       "    .dataframe tbody tr th {\n",
       "        vertical-align: top;\n",
       "    }\n",
       "\n",
       "    .dataframe thead th {\n",
       "        text-align: right;\n",
       "    }\n",
       "</style>\n",
       "<table border=\"1\" class=\"dataframe\">\n",
       "  <thead>\n",
       "    <tr style=\"text-align: right;\">\n",
       "      <th></th>\n",
       "      <th>station_nbr</th>\n",
       "    </tr>\n",
       "  </thead>\n",
       "  <tbody>\n",
       "    <tr>\n",
       "      <th>count</th>\n",
       "      <td>20517.000000</td>\n",
       "    </tr>\n",
       "    <tr>\n",
       "      <th>mean</th>\n",
       "      <td>10.549057</td>\n",
       "    </tr>\n",
       "    <tr>\n",
       "      <th>std</th>\n",
       "      <td>5.768533</td>\n",
       "    </tr>\n",
       "    <tr>\n",
       "      <th>min</th>\n",
       "      <td>1.000000</td>\n",
       "    </tr>\n",
       "    <tr>\n",
       "      <th>25%</th>\n",
       "      <td>6.000000</td>\n",
       "    </tr>\n",
       "    <tr>\n",
       "      <th>50%</th>\n",
       "      <td>11.000000</td>\n",
       "    </tr>\n",
       "    <tr>\n",
       "      <th>75%</th>\n",
       "      <td>16.000000</td>\n",
       "    </tr>\n",
       "    <tr>\n",
       "      <th>max</th>\n",
       "      <td>20.000000</td>\n",
       "    </tr>\n",
       "  </tbody>\n",
       "</table>\n",
       "</div>"
      ],
      "text/plain": [
       "        station_nbr\n",
       "count  20517.000000\n",
       "mean      10.549057\n",
       "std        5.768533\n",
       "min        1.000000\n",
       "25%        6.000000\n",
       "50%       11.000000\n",
       "75%       16.000000\n",
       "max       20.000000"
      ]
     },
     "metadata": {},
     "output_type": "display_data"
    }
   ],
   "source": [
    "display(weather.info())\n",
    "display(weather.describe())"
   ]
  },
  {
   "cell_type": "markdown",
   "metadata": {},
   "source": [
    "The majority of columns have missing values which needs imputations, in addition date column should be casted to datetime"
   ]
  },
  {
   "cell_type": "code",
   "execution_count": 8,
   "metadata": {},
   "outputs": [
    {
     "name": "stdout",
     "output_type": "stream",
     "text": [
      "<class 'pandas.core.frame.DataFrame'>\n",
      "RangeIndex: 20517 entries, 0 to 20516\n",
      "Data columns (total 19 columns):\n",
      " #   Column       Non-Null Count  Dtype         \n",
      "---  ------       --------------  -----         \n",
      " 0   station_nbr  20517 non-null  int64         \n",
      " 1   date         20517 non-null  datetime64[ns]\n",
      " 2   tmax         19611 non-null  float64       \n",
      " 3   tmin         19609 non-null  float64       \n",
      " 4   tavg         19048 non-null  float64       \n",
      " 5   dewpoint     19851 non-null  float64       \n",
      " 6   wetbulb      19265 non-null  float64       \n",
      " 7   heat         19048 non-null  float64       \n",
      " 8   cool         19048 non-null  float64       \n",
      " 9   sunrise      10861 non-null  float64       \n",
      " 10  sunset       10861 non-null  float64       \n",
      " 11  snowfall     13293 non-null  float64       \n",
      " 12  preciptotal  19657 non-null  float64       \n",
      " 13  stnpressure  19588 non-null  float64       \n",
      " 14  sealevel     18793 non-null  float64       \n",
      " 15  resultspeed  19928 non-null  float64       \n",
      " 16  resultdir    19928 non-null  float64       \n",
      " 17  avgspeed     19642 non-null  float64       \n",
      " 18  Weather      20517 non-null  int64         \n",
      "dtypes: datetime64[ns](1), float64(16), int64(2)\n",
      "memory usage: 3.0 MB\n"
     ]
    },
    {
     "data": {
      "text/plain": [
       "None"
      ]
     },
     "metadata": {},
     "output_type": "display_data"
    },
    {
     "data": {
      "text/html": [
       "<div>\n",
       "<style scoped>\n",
       "    .dataframe tbody tr th:only-of-type {\n",
       "        vertical-align: middle;\n",
       "    }\n",
       "\n",
       "    .dataframe tbody tr th {\n",
       "        vertical-align: top;\n",
       "    }\n",
       "\n",
       "    .dataframe thead th {\n",
       "        text-align: right;\n",
       "    }\n",
       "</style>\n",
       "<table border=\"1\" class=\"dataframe\">\n",
       "  <thead>\n",
       "    <tr style=\"text-align: right;\">\n",
       "      <th></th>\n",
       "      <th>station_nbr</th>\n",
       "      <th>tmax</th>\n",
       "      <th>tmin</th>\n",
       "      <th>tavg</th>\n",
       "      <th>dewpoint</th>\n",
       "      <th>wetbulb</th>\n",
       "      <th>heat</th>\n",
       "      <th>cool</th>\n",
       "      <th>sunrise</th>\n",
       "      <th>sunset</th>\n",
       "      <th>snowfall</th>\n",
       "      <th>preciptotal</th>\n",
       "      <th>stnpressure</th>\n",
       "      <th>sealevel</th>\n",
       "      <th>resultspeed</th>\n",
       "      <th>resultdir</th>\n",
       "      <th>avgspeed</th>\n",
       "      <th>Weather</th>\n",
       "    </tr>\n",
       "  </thead>\n",
       "  <tbody>\n",
       "    <tr>\n",
       "      <th>count</th>\n",
       "      <td>20517.000000</td>\n",
       "      <td>19611.000000</td>\n",
       "      <td>19609.000000</td>\n",
       "      <td>19048.000000</td>\n",
       "      <td>19851.000000</td>\n",
       "      <td>19265.000000</td>\n",
       "      <td>19048.000000</td>\n",
       "      <td>19048.000000</td>\n",
       "      <td>10861.000000</td>\n",
       "      <td>10861.000000</td>\n",
       "      <td>13293.000000</td>\n",
       "      <td>19657.000000</td>\n",
       "      <td>19588.000000</td>\n",
       "      <td>18793.000000</td>\n",
       "      <td>19928.000000</td>\n",
       "      <td>19928.000000</td>\n",
       "      <td>19642.000000</td>\n",
       "      <td>20517.000000</td>\n",
       "    </tr>\n",
       "    <tr>\n",
       "      <th>mean</th>\n",
       "      <td>10.549057</td>\n",
       "      <td>71.621131</td>\n",
       "      <td>50.654546</td>\n",
       "      <td>61.240130</td>\n",
       "      <td>47.270918</td>\n",
       "      <td>53.888243</td>\n",
       "      <td>9.704536</td>\n",
       "      <td>5.944666</td>\n",
       "      <td>585.038578</td>\n",
       "      <td>1823.387073</td>\n",
       "      <td>0.043881</td>\n",
       "      <td>0.100761</td>\n",
       "      <td>29.162770</td>\n",
       "      <td>30.009160</td>\n",
       "      <td>6.468326</td>\n",
       "      <td>18.729928</td>\n",
       "      <td>7.914077</td>\n",
       "      <td>0.983185</td>\n",
       "    </tr>\n",
       "    <tr>\n",
       "      <th>std</th>\n",
       "      <td>5.768533</td>\n",
       "      <td>19.847451</td>\n",
       "      <td>19.139055</td>\n",
       "      <td>19.194357</td>\n",
       "      <td>19.400495</td>\n",
       "      <td>17.017772</td>\n",
       "      <td>13.843873</td>\n",
       "      <td>7.834796</td>\n",
       "      <td>90.916758</td>\n",
       "      <td>92.148402</td>\n",
       "      <td>0.499669</td>\n",
       "      <td>0.343712</td>\n",
       "      <td>1.245414</td>\n",
       "      <td>0.191134</td>\n",
       "      <td>4.192577</td>\n",
       "      <td>9.675662</td>\n",
       "      <td>3.933458</td>\n",
       "      <td>1.334654</td>\n",
       "    </tr>\n",
       "    <tr>\n",
       "      <th>min</th>\n",
       "      <td>1.000000</td>\n",
       "      <td>-11.000000</td>\n",
       "      <td>-21.000000</td>\n",
       "      <td>-16.000000</td>\n",
       "      <td>-24.000000</td>\n",
       "      <td>-15.000000</td>\n",
       "      <td>0.000000</td>\n",
       "      <td>0.000000</td>\n",
       "      <td>406.000000</td>\n",
       "      <td>1611.000000</td>\n",
       "      <td>0.000000</td>\n",
       "      <td>0.000000</td>\n",
       "      <td>23.720000</td>\n",
       "      <td>29.160000</td>\n",
       "      <td>0.000000</td>\n",
       "      <td>1.000000</td>\n",
       "      <td>0.000000</td>\n",
       "      <td>0.000000</td>\n",
       "    </tr>\n",
       "    <tr>\n",
       "      <th>25%</th>\n",
       "      <td>6.000000</td>\n",
       "      <td>59.000000</td>\n",
       "      <td>37.000000</td>\n",
       "      <td>48.000000</td>\n",
       "      <td>33.000000</td>\n",
       "      <td>42.000000</td>\n",
       "      <td>0.000000</td>\n",
       "      <td>0.000000</td>\n",
       "      <td>527.000000</td>\n",
       "      <td>1745.000000</td>\n",
       "      <td>0.000000</td>\n",
       "      <td>0.000000</td>\n",
       "      <td>29.110000</td>\n",
       "      <td>29.890000</td>\n",
       "      <td>3.200000</td>\n",
       "      <td>13.000000</td>\n",
       "      <td>5.100000</td>\n",
       "      <td>0.000000</td>\n",
       "    </tr>\n",
       "    <tr>\n",
       "      <th>50%</th>\n",
       "      <td>11.000000</td>\n",
       "      <td>76.000000</td>\n",
       "      <td>53.000000</td>\n",
       "      <td>65.000000</td>\n",
       "      <td>51.000000</td>\n",
       "      <td>57.000000</td>\n",
       "      <td>0.000000</td>\n",
       "      <td>0.000000</td>\n",
       "      <td>602.000000</td>\n",
       "      <td>1833.000000</td>\n",
       "      <td>0.000000</td>\n",
       "      <td>0.000000</td>\n",
       "      <td>29.410000</td>\n",
       "      <td>30.000000</td>\n",
       "      <td>5.700000</td>\n",
       "      <td>18.000000</td>\n",
       "      <td>7.300000</td>\n",
       "      <td>0.000000</td>\n",
       "    </tr>\n",
       "    <tr>\n",
       "      <th>75%</th>\n",
       "      <td>16.000000</td>\n",
       "      <td>87.000000</td>\n",
       "      <td>67.000000</td>\n",
       "      <td>77.000000</td>\n",
       "      <td>64.000000</td>\n",
       "      <td>68.000000</td>\n",
       "      <td>17.000000</td>\n",
       "      <td>12.000000</td>\n",
       "      <td>646.000000</td>\n",
       "      <td>1915.000000</td>\n",
       "      <td>0.000000</td>\n",
       "      <td>0.010000</td>\n",
       "      <td>29.780000</td>\n",
       "      <td>30.130000</td>\n",
       "      <td>8.900000</td>\n",
       "      <td>26.000000</td>\n",
       "      <td>10.100000</td>\n",
       "      <td>2.000000</td>\n",
       "    </tr>\n",
       "    <tr>\n",
       "      <th>max</th>\n",
       "      <td>20.000000</td>\n",
       "      <td>114.000000</td>\n",
       "      <td>88.000000</td>\n",
       "      <td>100.000000</td>\n",
       "      <td>77.000000</td>\n",
       "      <td>80.000000</td>\n",
       "      <td>81.000000</td>\n",
       "      <td>35.000000</td>\n",
       "      <td>740.000000</td>\n",
       "      <td>1949.000000</td>\n",
       "      <td>16.200000</td>\n",
       "      <td>7.360000</td>\n",
       "      <td>30.610000</td>\n",
       "      <td>30.800000</td>\n",
       "      <td>28.400000</td>\n",
       "      <td>36.000000</td>\n",
       "      <td>28.700000</td>\n",
       "      <td>9.000000</td>\n",
       "    </tr>\n",
       "  </tbody>\n",
       "</table>\n",
       "</div>"
      ],
      "text/plain": [
       "        station_nbr          tmax          tmin          tavg      dewpoint  \\\n",
       "count  20517.000000  19611.000000  19609.000000  19048.000000  19851.000000   \n",
       "mean      10.549057     71.621131     50.654546     61.240130     47.270918   \n",
       "std        5.768533     19.847451     19.139055     19.194357     19.400495   \n",
       "min        1.000000    -11.000000    -21.000000    -16.000000    -24.000000   \n",
       "25%        6.000000     59.000000     37.000000     48.000000     33.000000   \n",
       "50%       11.000000     76.000000     53.000000     65.000000     51.000000   \n",
       "75%       16.000000     87.000000     67.000000     77.000000     64.000000   \n",
       "max       20.000000    114.000000     88.000000    100.000000     77.000000   \n",
       "\n",
       "            wetbulb          heat          cool       sunrise        sunset  \\\n",
       "count  19265.000000  19048.000000  19048.000000  10861.000000  10861.000000   \n",
       "mean      53.888243      9.704536      5.944666    585.038578   1823.387073   \n",
       "std       17.017772     13.843873      7.834796     90.916758     92.148402   \n",
       "min      -15.000000      0.000000      0.000000    406.000000   1611.000000   \n",
       "25%       42.000000      0.000000      0.000000    527.000000   1745.000000   \n",
       "50%       57.000000      0.000000      0.000000    602.000000   1833.000000   \n",
       "75%       68.000000     17.000000     12.000000    646.000000   1915.000000   \n",
       "max       80.000000     81.000000     35.000000    740.000000   1949.000000   \n",
       "\n",
       "           snowfall   preciptotal   stnpressure      sealevel   resultspeed  \\\n",
       "count  13293.000000  19657.000000  19588.000000  18793.000000  19928.000000   \n",
       "mean       0.043881      0.100761     29.162770     30.009160      6.468326   \n",
       "std        0.499669      0.343712      1.245414      0.191134      4.192577   \n",
       "min        0.000000      0.000000     23.720000     29.160000      0.000000   \n",
       "25%        0.000000      0.000000     29.110000     29.890000      3.200000   \n",
       "50%        0.000000      0.000000     29.410000     30.000000      5.700000   \n",
       "75%        0.000000      0.010000     29.780000     30.130000      8.900000   \n",
       "max       16.200000      7.360000     30.610000     30.800000     28.400000   \n",
       "\n",
       "          resultdir      avgspeed       Weather  \n",
       "count  19928.000000  19642.000000  20517.000000  \n",
       "mean      18.729928      7.914077      0.983185  \n",
       "std        9.675662      3.933458      1.334654  \n",
       "min        1.000000      0.000000      0.000000  \n",
       "25%       13.000000      5.100000      0.000000  \n",
       "50%       18.000000      7.300000      0.000000  \n",
       "75%       26.000000     10.100000      2.000000  \n",
       "max       36.000000     28.700000      9.000000  "
      ]
     },
     "metadata": {},
     "output_type": "display_data"
    },
    {
     "data": {
      "text/html": [
       "<div>\n",
       "<style scoped>\n",
       "    .dataframe tbody tr th:only-of-type {\n",
       "        vertical-align: middle;\n",
       "    }\n",
       "\n",
       "    .dataframe tbody tr th {\n",
       "        vertical-align: top;\n",
       "    }\n",
       "\n",
       "    .dataframe thead th {\n",
       "        text-align: right;\n",
       "    }\n",
       "</style>\n",
       "<table border=\"1\" class=\"dataframe\">\n",
       "  <thead>\n",
       "    <tr style=\"text-align: right;\">\n",
       "      <th></th>\n",
       "      <th>station_nbr</th>\n",
       "      <th>date</th>\n",
       "      <th>tmax</th>\n",
       "      <th>tmin</th>\n",
       "      <th>tavg</th>\n",
       "      <th>dewpoint</th>\n",
       "      <th>wetbulb</th>\n",
       "      <th>heat</th>\n",
       "      <th>cool</th>\n",
       "      <th>sunrise</th>\n",
       "      <th>sunset</th>\n",
       "      <th>snowfall</th>\n",
       "      <th>preciptotal</th>\n",
       "      <th>stnpressure</th>\n",
       "      <th>sealevel</th>\n",
       "      <th>resultspeed</th>\n",
       "      <th>resultdir</th>\n",
       "      <th>avgspeed</th>\n",
       "      <th>Weather</th>\n",
       "    </tr>\n",
       "  </thead>\n",
       "  <tbody>\n",
       "    <tr>\n",
       "      <th>3829</th>\n",
       "      <td>2</td>\n",
       "      <td>2012-07-18</td>\n",
       "      <td>91.0</td>\n",
       "      <td>71.0</td>\n",
       "      <td>81.0</td>\n",
       "      <td>69.0</td>\n",
       "      <td>72.0</td>\n",
       "      <td>0.0</td>\n",
       "      <td>16.0</td>\n",
       "      <td>427.0</td>\n",
       "      <td>1921.0</td>\n",
       "      <td>0.0</td>\n",
       "      <td>0.030</td>\n",
       "      <td>28.74</td>\n",
       "      <td>29.82</td>\n",
       "      <td>5.8</td>\n",
       "      <td>27.0</td>\n",
       "      <td>8.1</td>\n",
       "      <td>1</td>\n",
       "    </tr>\n",
       "    <tr>\n",
       "      <th>8283</th>\n",
       "      <td>16</td>\n",
       "      <td>2013-02-25</td>\n",
       "      <td>40.0</td>\n",
       "      <td>29.0</td>\n",
       "      <td>35.0</td>\n",
       "      <td>27.0</td>\n",
       "      <td>31.0</td>\n",
       "      <td>30.0</td>\n",
       "      <td>0.0</td>\n",
       "      <td>NaN</td>\n",
       "      <td>NaN</td>\n",
       "      <td>NaN</td>\n",
       "      <td>0.010</td>\n",
       "      <td>29.93</td>\n",
       "      <td>30.08</td>\n",
       "      <td>4.3</td>\n",
       "      <td>35.0</td>\n",
       "      <td>4.7</td>\n",
       "      <td>0</td>\n",
       "    </tr>\n",
       "    <tr>\n",
       "      <th>18624</th>\n",
       "      <td>8</td>\n",
       "      <td>2014-07-29</td>\n",
       "      <td>98.0</td>\n",
       "      <td>75.0</td>\n",
       "      <td>87.0</td>\n",
       "      <td>73.0</td>\n",
       "      <td>77.0</td>\n",
       "      <td>0.0</td>\n",
       "      <td>22.0</td>\n",
       "      <td>NaN</td>\n",
       "      <td>NaN</td>\n",
       "      <td>NaN</td>\n",
       "      <td>0.000</td>\n",
       "      <td>29.69</td>\n",
       "      <td>NaN</td>\n",
       "      <td>1.5</td>\n",
       "      <td>8.0</td>\n",
       "      <td>1.9</td>\n",
       "      <td>0</td>\n",
       "    </tr>\n",
       "    <tr>\n",
       "      <th>17882</th>\n",
       "      <td>6</td>\n",
       "      <td>2014-06-22</td>\n",
       "      <td>91.0</td>\n",
       "      <td>75.0</td>\n",
       "      <td>83.0</td>\n",
       "      <td>72.0</td>\n",
       "      <td>75.0</td>\n",
       "      <td>0.0</td>\n",
       "      <td>18.0</td>\n",
       "      <td>530.0</td>\n",
       "      <td>1935.0</td>\n",
       "      <td>0.0</td>\n",
       "      <td>0.001</td>\n",
       "      <td>29.36</td>\n",
       "      <td>29.87</td>\n",
       "      <td>9.8</td>\n",
       "      <td>17.0</td>\n",
       "      <td>9.9</td>\n",
       "      <td>2</td>\n",
       "    </tr>\n",
       "    <tr>\n",
       "      <th>3308</th>\n",
       "      <td>1</td>\n",
       "      <td>2012-06-22</td>\n",
       "      <td>94.0</td>\n",
       "      <td>71.0</td>\n",
       "      <td>83.0</td>\n",
       "      <td>66.0</td>\n",
       "      <td>71.0</td>\n",
       "      <td>0.0</td>\n",
       "      <td>18.0</td>\n",
       "      <td>NaN</td>\n",
       "      <td>NaN</td>\n",
       "      <td>NaN</td>\n",
       "      <td>0.001</td>\n",
       "      <td>29.59</td>\n",
       "      <td>29.75</td>\n",
       "      <td>4.3</td>\n",
       "      <td>26.0</td>\n",
       "      <td>5.8</td>\n",
       "      <td>1</td>\n",
       "    </tr>\n",
       "    <tr>\n",
       "      <th>3731</th>\n",
       "      <td>4</td>\n",
       "      <td>2012-07-13</td>\n",
       "      <td>97.0</td>\n",
       "      <td>74.0</td>\n",
       "      <td>86.0</td>\n",
       "      <td>72.0</td>\n",
       "      <td>75.0</td>\n",
       "      <td>0.0</td>\n",
       "      <td>21.0</td>\n",
       "      <td>538.0</td>\n",
       "      <td>1935.0</td>\n",
       "      <td>0.0</td>\n",
       "      <td>0.010</td>\n",
       "      <td>29.26</td>\n",
       "      <td>29.93</td>\n",
       "      <td>0.6</td>\n",
       "      <td>11.0</td>\n",
       "      <td>2.3</td>\n",
       "      <td>2</td>\n",
       "    </tr>\n",
       "    <tr>\n",
       "      <th>13056</th>\n",
       "      <td>20</td>\n",
       "      <td>2013-10-23</td>\n",
       "      <td>83.0</td>\n",
       "      <td>53.0</td>\n",
       "      <td>68.0</td>\n",
       "      <td>45.0</td>\n",
       "      <td>56.0</td>\n",
       "      <td>0.0</td>\n",
       "      <td>3.0</td>\n",
       "      <td>NaN</td>\n",
       "      <td>NaN</td>\n",
       "      <td>0.0</td>\n",
       "      <td>0.000</td>\n",
       "      <td>29.36</td>\n",
       "      <td>30.07</td>\n",
       "      <td>2.2</td>\n",
       "      <td>25.0</td>\n",
       "      <td>4.2</td>\n",
       "      <td>0</td>\n",
       "    </tr>\n",
       "    <tr>\n",
       "      <th>569</th>\n",
       "      <td>20</td>\n",
       "      <td>2012-01-30</td>\n",
       "      <td>67.0</td>\n",
       "      <td>45.0</td>\n",
       "      <td>56.0</td>\n",
       "      <td>44.0</td>\n",
       "      <td>50.0</td>\n",
       "      <td>9.0</td>\n",
       "      <td>0.0</td>\n",
       "      <td>NaN</td>\n",
       "      <td>NaN</td>\n",
       "      <td>0.0</td>\n",
       "      <td>0.000</td>\n",
       "      <td>29.42</td>\n",
       "      <td>30.17</td>\n",
       "      <td>9.0</td>\n",
       "      <td>18.0</td>\n",
       "      <td>9.4</td>\n",
       "      <td>0</td>\n",
       "    </tr>\n",
       "    <tr>\n",
       "      <th>17652</th>\n",
       "      <td>16</td>\n",
       "      <td>2014-06-10</td>\n",
       "      <td>77.0</td>\n",
       "      <td>57.0</td>\n",
       "      <td>67.0</td>\n",
       "      <td>60.0</td>\n",
       "      <td>63.0</td>\n",
       "      <td>0.0</td>\n",
       "      <td>2.0</td>\n",
       "      <td>NaN</td>\n",
       "      <td>NaN</td>\n",
       "      <td>NaN</td>\n",
       "      <td>0.060</td>\n",
       "      <td>29.85</td>\n",
       "      <td>29.98</td>\n",
       "      <td>3.0</td>\n",
       "      <td>7.0</td>\n",
       "      <td>5.4</td>\n",
       "      <td>2</td>\n",
       "    </tr>\n",
       "    <tr>\n",
       "      <th>4570</th>\n",
       "      <td>3</td>\n",
       "      <td>2012-08-24</td>\n",
       "      <td>91.0</td>\n",
       "      <td>72.0</td>\n",
       "      <td>82.0</td>\n",
       "      <td>60.0</td>\n",
       "      <td>68.0</td>\n",
       "      <td>0.0</td>\n",
       "      <td>17.0</td>\n",
       "      <td>549.0</td>\n",
       "      <td>1904.0</td>\n",
       "      <td>0.0</td>\n",
       "      <td>0.001</td>\n",
       "      <td>29.15</td>\n",
       "      <td>29.87</td>\n",
       "      <td>11.8</td>\n",
       "      <td>17.0</td>\n",
       "      <td>12.0</td>\n",
       "      <td>1</td>\n",
       "    </tr>\n",
       "  </tbody>\n",
       "</table>\n",
       "</div>"
      ],
      "text/plain": [
       "       station_nbr       date  tmax  tmin  tavg  dewpoint  wetbulb  heat  \\\n",
       "3829             2 2012-07-18  91.0  71.0  81.0      69.0     72.0   0.0   \n",
       "8283            16 2013-02-25  40.0  29.0  35.0      27.0     31.0  30.0   \n",
       "18624            8 2014-07-29  98.0  75.0  87.0      73.0     77.0   0.0   \n",
       "17882            6 2014-06-22  91.0  75.0  83.0      72.0     75.0   0.0   \n",
       "3308             1 2012-06-22  94.0  71.0  83.0      66.0     71.0   0.0   \n",
       "3731             4 2012-07-13  97.0  74.0  86.0      72.0     75.0   0.0   \n",
       "13056           20 2013-10-23  83.0  53.0  68.0      45.0     56.0   0.0   \n",
       "569             20 2012-01-30  67.0  45.0  56.0      44.0     50.0   9.0   \n",
       "17652           16 2014-06-10  77.0  57.0  67.0      60.0     63.0   0.0   \n",
       "4570             3 2012-08-24  91.0  72.0  82.0      60.0     68.0   0.0   \n",
       "\n",
       "       cool  sunrise  sunset  snowfall  preciptotal  stnpressure  sealevel  \\\n",
       "3829   16.0    427.0  1921.0       0.0        0.030        28.74     29.82   \n",
       "8283    0.0      NaN     NaN       NaN        0.010        29.93     30.08   \n",
       "18624  22.0      NaN     NaN       NaN        0.000        29.69       NaN   \n",
       "17882  18.0    530.0  1935.0       0.0        0.001        29.36     29.87   \n",
       "3308   18.0      NaN     NaN       NaN        0.001        29.59     29.75   \n",
       "3731   21.0    538.0  1935.0       0.0        0.010        29.26     29.93   \n",
       "13056   3.0      NaN     NaN       0.0        0.000        29.36     30.07   \n",
       "569     0.0      NaN     NaN       0.0        0.000        29.42     30.17   \n",
       "17652   2.0      NaN     NaN       NaN        0.060        29.85     29.98   \n",
       "4570   17.0    549.0  1904.0       0.0        0.001        29.15     29.87   \n",
       "\n",
       "       resultspeed  resultdir  avgspeed  Weather  \n",
       "3829           5.8       27.0       8.1        1  \n",
       "8283           4.3       35.0       4.7        0  \n",
       "18624          1.5        8.0       1.9        0  \n",
       "17882          9.8       17.0       9.9        2  \n",
       "3308           4.3       26.0       5.8        1  \n",
       "3731           0.6       11.0       2.3        2  \n",
       "13056          2.2       25.0       4.2        0  \n",
       "569            9.0       18.0       9.4        0  \n",
       "17652          3.0        7.0       5.4        2  \n",
       "4570          11.8       17.0      12.0        1  "
      ]
     },
     "metadata": {},
     "output_type": "display_data"
    },
    {
     "data": {
      "image/png": "[encoded data removed]",
      "text/plain": [
       "<Figure size 2880x2880 with 2 Axes>"
      ]
     },
     "metadata": {
      "needs_background": "light"
     },
     "output_type": "display_data"
    }
   ],
   "source": [
    "weather['date'] = pd.to_datetime(weather['date'])\n",
    "\n",
    "# Clean method 1\n",
    "def clean_data(df):\n",
    "    WeatherCode = ['FC', 'TS', 'GR', 'RA', 'DZ', 'SN', 'SG', 'GS', 'PL', 'IC', 'FG', 'BR', 'UP', 'HZ', 'FU', 'VA', \n",
    "               'DU', 'DS', 'PO', 'SA', 'SS', 'PY', 'SQ', 'DR', 'SH', 'FZ', 'MI', 'PR', 'BC', 'BL', 'VC', '+']\n",
    "    df['Weather'] = pd.Series(list(map(lambda x: sum(list(map(lambda y: x.find(y) >= 0, WeatherCode))), df.codesum)), index = df.index)\n",
    "    df = df.replace(('-', ' '), np.nan)\n",
    "    df = df.replace('M', np.nan)\n",
    "    df = df.replace(('T', '  T'), 0.001)\n",
    "    num_attr = ['tmax', 'tmin', 'tavg', 'dewpoint', 'wetbulb', 'heat', 'cool','sunrise', 'sunset', 'snowfall', \n",
    "                'preciptotal', 'stnpressure','sealevel', 'resultspeed', 'resultdir', 'avgspeed']\n",
    "    df[num_attr] = df[num_attr].astype(float)\n",
    "    df = df.loc[:,df.isnull().sum()< df.shape[0]*.5]\n",
    "    return df\n",
    "\n",
    "\n",
    "weather = clean_data(weather)\n",
    "display(weather.info())\n",
    "display(weather.describe())\n",
    "display(weather.sample(10))\n",
    "plt.figure(figsize=(40,40))\n",
    "sns.heatmap(weather.corr(), annot=True)\n",
    "plt.title(\"Features correlation in Weather dataset\", fontsize=18, color = \"red\")\n",
    "plt.show()"
   ]
  },
  {
   "cell_type": "code",
   "execution_count": 9,
   "metadata": {},
   "outputs": [
    {
     "data": {
      "text/plain": [
       "7224"
      ]
     },
     "metadata": {},
     "output_type": "display_data"
    },
    {
     "data": {
      "text/plain": [
       "station_nbr             int64\n",
       "date           datetime64[ns]\n",
       "tmax                  float64\n",
       "tmin                  float64\n",
       "tavg                  float64\n",
       "dewpoint              float64\n",
       "wetbulb               float64\n",
       "heat                  float64\n",
       "cool                  float64\n",
       "sunrise               float64\n",
       "sunset                float64\n",
       "snowfall              float64\n",
       "preciptotal           float64\n",
       "stnpressure           float64\n",
       "sealevel              float64\n",
       "resultspeed           float64\n",
       "resultdir             float64\n",
       "avgspeed              float64\n",
       "Weather                 int64\n",
       "dtype: object"
      ]
     },
     "metadata": {},
     "output_type": "display_data"
    }
   ],
   "source": [
    "display(weather['snowfall'].isnull().sum())\n",
    "display(weather.dtypes)"
   ]
  },
  {
   "cell_type": "code",
   "execution_count": 10,
   "metadata": {},
   "outputs": [
    {
     "data": {
      "image/png": "[encoded data removed]",
      "text/plain": [
       "<Figure size 864x576 with 1 Axes>"
      ]
     },
     "metadata": {
      "needs_background": "light"
     },
     "output_type": "display_data"
    }
   ],
   "source": [
    "plt.figure(figsize=(12,8))\n",
    "count_null = weather.isnull().sum()\n",
    "count_null.sort_values(ascending = False, inplace = True)\n",
    "count_null = count_null[count_null > 0]\n",
    "count_null.plot(kind = 'bar', title = 'missing data count')\n",
    "plt.show()"
   ]
  },
  {
   "cell_type": "code",
   "execution_count": 11,
   "metadata": {},
   "outputs": [],
   "source": [
    "weather.to_csv(\"clean_weather.csv\", index= False)"
   ]
  },
  {
   "cell_type": "code",
   "execution_count": 12,
   "metadata": {},
   "outputs": [
    {
     "data": {
      "text/plain": [
       "Timestamp('2012-01-01 00:00:00')"
      ]
     },
     "metadata": {},
     "output_type": "display_data"
    },
    {
     "data": {
      "text/plain": [
       "2012"
      ]
     },
     "metadata": {},
     "output_type": "display_data"
    }
   ],
   "source": [
    "date1 = weather['date'][0]\n",
    "display(date1)\n",
    "display(date1.year)"
   ]
  },
  {
   "cell_type": "code",
   "execution_count": 13,
   "metadata": {},
   "outputs": [
    {
     "name": "stderr",
     "output_type": "stream",
     "text": [
      "C:\\Users\\lover\\anaconda3\\lib\\site-packages\\pandas\\core\\indexing.py:670: SettingWithCopyWarning: \n",
      "A value is trying to be set on a copy of a slice from a DataFrame\n",
      "\n",
      "See the caveats in the documentation: https://pandas.pydata.org/pandas-docs/stable/user_guide/indexing.html#returning-a-view-versus-a-copy\n",
      "  iloc._setitem_with_indexer(indexer, value)\n"
     ]
    }
   ],
   "source": [
    "\"\"\"\n",
    "create two new columns from the date column :\n",
    "1- Year - extract the year from date\n",
    "2- Season - according to the month from the date \n",
    "[\n",
    "winter : 1-3\n",
    "spring: 4-6\n",
    "summer: 7-9\n",
    "autumn: 10-12\n",
    "]\n",
    "\"\"\"\n",
    "weather['year'] = \"\"\n",
    "weather['season'] = \"\"\n",
    "for i in range(0, len(weather)):\n",
    "    weather['year'].loc[i] = weather['date'].loc[i].year\n",
    "    if weather['date'][i].month >=1 and weather['date'][i].month <=3:\n",
    "        weather['season'].loc[i] = \"winter\"\n",
    "    if weather['date'][i].month >=4 and weather['date'][i].month <=6:\n",
    "        weather['season'].loc[i] = \"spring\"\n",
    "    if weather['date'][i].month >=7 and weather['date'][i].month <=9:\n",
    "        weather['season'].loc[i] = \"summer\"\n",
    "    if weather['date'][i].month >=10 and weather['date'][i].month <=12:\n",
    "        weather['season'].loc[i] = \"autumn\"\n",
    "        \n",
    "weather['year'] = pd.to_numeric(weather['year'])"
   ]
  },
  {
   "cell_type": "code",
   "execution_count": 14,
   "metadata": {},
   "outputs": [
    {
     "data": {
      "text/html": [
       "<div>\n",
       "<style scoped>\n",
       "    .dataframe tbody tr th:only-of-type {\n",
       "        vertical-align: middle;\n",
       "    }\n",
       "\n",
       "    .dataframe tbody tr th {\n",
       "        vertical-align: top;\n",
       "    }\n",
       "\n",
       "    .dataframe thead th {\n",
       "        text-align: right;\n",
       "    }\n",
       "</style>\n",
       "<table border=\"1\" class=\"dataframe\">\n",
       "  <thead>\n",
       "    <tr style=\"text-align: right;\">\n",
       "      <th></th>\n",
       "      <th>station_nbr</th>\n",
       "      <th>date</th>\n",
       "      <th>tmax</th>\n",
       "      <th>tmin</th>\n",
       "      <th>tavg</th>\n",
       "      <th>dewpoint</th>\n",
       "      <th>wetbulb</th>\n",
       "      <th>heat</th>\n",
       "      <th>cool</th>\n",
       "      <th>sunrise</th>\n",
       "      <th>...</th>\n",
       "      <th>snowfall</th>\n",
       "      <th>preciptotal</th>\n",
       "      <th>stnpressure</th>\n",
       "      <th>sealevel</th>\n",
       "      <th>resultspeed</th>\n",
       "      <th>resultdir</th>\n",
       "      <th>avgspeed</th>\n",
       "      <th>Weather</th>\n",
       "      <th>year</th>\n",
       "      <th>season</th>\n",
       "    </tr>\n",
       "  </thead>\n",
       "  <tbody>\n",
       "    <tr>\n",
       "      <th>10367</th>\n",
       "      <td>20</td>\n",
       "      <td>2013-06-09</td>\n",
       "      <td>89.0</td>\n",
       "      <td>68.0</td>\n",
       "      <td>79.0</td>\n",
       "      <td>66.0</td>\n",
       "      <td>70.0</td>\n",
       "      <td>0.0</td>\n",
       "      <td>14.0</td>\n",
       "      <td>NaN</td>\n",
       "      <td>...</td>\n",
       "      <td>0.000</td>\n",
       "      <td>0.320</td>\n",
       "      <td>29.19</td>\n",
       "      <td>29.87</td>\n",
       "      <td>0.3</td>\n",
       "      <td>1.0</td>\n",
       "      <td>7.8</td>\n",
       "      <td>2</td>\n",
       "      <td>2013</td>\n",
       "      <td>spring</td>\n",
       "    </tr>\n",
       "    <tr>\n",
       "      <th>20283</th>\n",
       "      <td>7</td>\n",
       "      <td>2014-10-20</td>\n",
       "      <td>82.0</td>\n",
       "      <td>59.0</td>\n",
       "      <td>71.0</td>\n",
       "      <td>59.0</td>\n",
       "      <td>63.0</td>\n",
       "      <td>0.0</td>\n",
       "      <td>6.0</td>\n",
       "      <td>NaN</td>\n",
       "      <td>...</td>\n",
       "      <td>0.000</td>\n",
       "      <td>0.000</td>\n",
       "      <td>28.65</td>\n",
       "      <td>30.01</td>\n",
       "      <td>4.8</td>\n",
       "      <td>19.0</td>\n",
       "      <td>7.0</td>\n",
       "      <td>0</td>\n",
       "      <td>2014</td>\n",
       "      <td>autumn</td>\n",
       "    </tr>\n",
       "    <tr>\n",
       "      <th>954</th>\n",
       "      <td>6</td>\n",
       "      <td>2012-02-20</td>\n",
       "      <td>69.0</td>\n",
       "      <td>45.0</td>\n",
       "      <td>57.0</td>\n",
       "      <td>52.0</td>\n",
       "      <td>54.0</td>\n",
       "      <td>8.0</td>\n",
       "      <td>0.0</td>\n",
       "      <td>706.0</td>\n",
       "      <td>...</td>\n",
       "      <td>0.000</td>\n",
       "      <td>0.000</td>\n",
       "      <td>29.52</td>\n",
       "      <td>30.05</td>\n",
       "      <td>7.1</td>\n",
       "      <td>18.0</td>\n",
       "      <td>7.3</td>\n",
       "      <td>3</td>\n",
       "      <td>2012</td>\n",
       "      <td>winter</td>\n",
       "    </tr>\n",
       "    <tr>\n",
       "      <th>9835</th>\n",
       "      <td>8</td>\n",
       "      <td>2013-05-14</td>\n",
       "      <td>85.0</td>\n",
       "      <td>62.0</td>\n",
       "      <td>74.0</td>\n",
       "      <td>67.0</td>\n",
       "      <td>69.0</td>\n",
       "      <td>0.0</td>\n",
       "      <td>9.0</td>\n",
       "      <td>NaN</td>\n",
       "      <td>...</td>\n",
       "      <td>NaN</td>\n",
       "      <td>0.000</td>\n",
       "      <td>29.78</td>\n",
       "      <td>NaN</td>\n",
       "      <td>7.4</td>\n",
       "      <td>17.0</td>\n",
       "      <td>7.6</td>\n",
       "      <td>1</td>\n",
       "      <td>2013</td>\n",
       "      <td>spring</td>\n",
       "    </tr>\n",
       "    <tr>\n",
       "      <th>7402</th>\n",
       "      <td>15</td>\n",
       "      <td>2013-01-12</td>\n",
       "      <td>39.0</td>\n",
       "      <td>32.0</td>\n",
       "      <td>36.0</td>\n",
       "      <td>35.0</td>\n",
       "      <td>35.0</td>\n",
       "      <td>29.0</td>\n",
       "      <td>0.0</td>\n",
       "      <td>716.0</td>\n",
       "      <td>...</td>\n",
       "      <td>0.000</td>\n",
       "      <td>0.030</td>\n",
       "      <td>29.78</td>\n",
       "      <td>30.16</td>\n",
       "      <td>1.5</td>\n",
       "      <td>15.0</td>\n",
       "      <td>1.8</td>\n",
       "      <td>3</td>\n",
       "      <td>2013</td>\n",
       "      <td>winter</td>\n",
       "    </tr>\n",
       "    <tr>\n",
       "      <th>4330</th>\n",
       "      <td>3</td>\n",
       "      <td>2012-08-12</td>\n",
       "      <td>99.0</td>\n",
       "      <td>73.0</td>\n",
       "      <td>86.0</td>\n",
       "      <td>61.0</td>\n",
       "      <td>69.0</td>\n",
       "      <td>0.0</td>\n",
       "      <td>21.0</td>\n",
       "      <td>539.0</td>\n",
       "      <td>...</td>\n",
       "      <td>0.000</td>\n",
       "      <td>0.001</td>\n",
       "      <td>29.15</td>\n",
       "      <td>29.85</td>\n",
       "      <td>5.5</td>\n",
       "      <td>16.0</td>\n",
       "      <td>9.3</td>\n",
       "      <td>0</td>\n",
       "      <td>2012</td>\n",
       "      <td>summer</td>\n",
       "    </tr>\n",
       "    <tr>\n",
       "      <th>19296</th>\n",
       "      <td>20</td>\n",
       "      <td>2014-08-31</td>\n",
       "      <td>97.0</td>\n",
       "      <td>76.0</td>\n",
       "      <td>87.0</td>\n",
       "      <td>70.0</td>\n",
       "      <td>75.0</td>\n",
       "      <td>0.0</td>\n",
       "      <td>22.0</td>\n",
       "      <td>NaN</td>\n",
       "      <td>...</td>\n",
       "      <td>0.000</td>\n",
       "      <td>0.000</td>\n",
       "      <td>29.20</td>\n",
       "      <td>29.89</td>\n",
       "      <td>9.0</td>\n",
       "      <td>16.0</td>\n",
       "      <td>10.3</td>\n",
       "      <td>0</td>\n",
       "      <td>2014</td>\n",
       "      <td>summer</td>\n",
       "    </tr>\n",
       "    <tr>\n",
       "      <th>3836</th>\n",
       "      <td>9</td>\n",
       "      <td>2012-07-18</td>\n",
       "      <td>82.0</td>\n",
       "      <td>71.0</td>\n",
       "      <td>77.0</td>\n",
       "      <td>69.0</td>\n",
       "      <td>71.0</td>\n",
       "      <td>0.0</td>\n",
       "      <td>12.0</td>\n",
       "      <td>NaN</td>\n",
       "      <td>...</td>\n",
       "      <td>NaN</td>\n",
       "      <td>0.650</td>\n",
       "      <td>29.15</td>\n",
       "      <td>29.87</td>\n",
       "      <td>5.8</td>\n",
       "      <td>8.0</td>\n",
       "      <td>7.1</td>\n",
       "      <td>3</td>\n",
       "      <td>2012</td>\n",
       "      <td>summer</td>\n",
       "    </tr>\n",
       "    <tr>\n",
       "      <th>1380</th>\n",
       "      <td>14</td>\n",
       "      <td>2012-03-13</td>\n",
       "      <td>80.0</td>\n",
       "      <td>51.0</td>\n",
       "      <td>66.0</td>\n",
       "      <td>54.0</td>\n",
       "      <td>59.0</td>\n",
       "      <td>0.0</td>\n",
       "      <td>1.0</td>\n",
       "      <td>644.0</td>\n",
       "      <td>...</td>\n",
       "      <td>0.000</td>\n",
       "      <td>0.000</td>\n",
       "      <td>28.59</td>\n",
       "      <td>29.95</td>\n",
       "      <td>14.9</td>\n",
       "      <td>18.0</td>\n",
       "      <td>15.2</td>\n",
       "      <td>1</td>\n",
       "      <td>2012</td>\n",
       "      <td>winter</td>\n",
       "    </tr>\n",
       "    <tr>\n",
       "      <th>8047</th>\n",
       "      <td>20</td>\n",
       "      <td>2013-02-13</td>\n",
       "      <td>57.0</td>\n",
       "      <td>39.0</td>\n",
       "      <td>48.0</td>\n",
       "      <td>34.0</td>\n",
       "      <td>41.0</td>\n",
       "      <td>17.0</td>\n",
       "      <td>0.0</td>\n",
       "      <td>NaN</td>\n",
       "      <td>...</td>\n",
       "      <td>0.000</td>\n",
       "      <td>0.000</td>\n",
       "      <td>29.35</td>\n",
       "      <td>30.07</td>\n",
       "      <td>4.2</td>\n",
       "      <td>31.0</td>\n",
       "      <td>7.3</td>\n",
       "      <td>0</td>\n",
       "      <td>2013</td>\n",
       "      <td>winter</td>\n",
       "    </tr>\n",
       "    <tr>\n",
       "      <th>8465</th>\n",
       "      <td>18</td>\n",
       "      <td>2013-03-06</td>\n",
       "      <td>62.0</td>\n",
       "      <td>37.0</td>\n",
       "      <td>50.0</td>\n",
       "      <td>18.0</td>\n",
       "      <td>38.0</td>\n",
       "      <td>15.0</td>\n",
       "      <td>0.0</td>\n",
       "      <td>649.0</td>\n",
       "      <td>...</td>\n",
       "      <td>0.000</td>\n",
       "      <td>0.000</td>\n",
       "      <td>29.79</td>\n",
       "      <td>30.31</td>\n",
       "      <td>2.7</td>\n",
       "      <td>6.0</td>\n",
       "      <td>5.2</td>\n",
       "      <td>0</td>\n",
       "      <td>2013</td>\n",
       "      <td>winter</td>\n",
       "    </tr>\n",
       "    <tr>\n",
       "      <th>554</th>\n",
       "      <td>4</td>\n",
       "      <td>2012-01-30</td>\n",
       "      <td>64.0</td>\n",
       "      <td>41.0</td>\n",
       "      <td>53.0</td>\n",
       "      <td>48.0</td>\n",
       "      <td>51.0</td>\n",
       "      <td>12.0</td>\n",
       "      <td>0.0</td>\n",
       "      <td>723.0</td>\n",
       "      <td>...</td>\n",
       "      <td>0.000</td>\n",
       "      <td>0.200</td>\n",
       "      <td>29.50</td>\n",
       "      <td>30.24</td>\n",
       "      <td>2.5</td>\n",
       "      <td>18.0</td>\n",
       "      <td>3.9</td>\n",
       "      <td>2</td>\n",
       "      <td>2012</td>\n",
       "      <td>winter</td>\n",
       "    </tr>\n",
       "    <tr>\n",
       "      <th>16453</th>\n",
       "      <td>17</td>\n",
       "      <td>2014-04-11</td>\n",
       "      <td>81.0</td>\n",
       "      <td>51.0</td>\n",
       "      <td>66.0</td>\n",
       "      <td>53.0</td>\n",
       "      <td>59.0</td>\n",
       "      <td>0.0</td>\n",
       "      <td>1.0</td>\n",
       "      <td>NaN</td>\n",
       "      <td>...</td>\n",
       "      <td>0.000</td>\n",
       "      <td>0.000</td>\n",
       "      <td>29.26</td>\n",
       "      <td>29.96</td>\n",
       "      <td>3.3</td>\n",
       "      <td>14.0</td>\n",
       "      <td>6.4</td>\n",
       "      <td>0</td>\n",
       "      <td>2014</td>\n",
       "      <td>spring</td>\n",
       "    </tr>\n",
       "    <tr>\n",
       "      <th>12121</th>\n",
       "      <td>5</td>\n",
       "      <td>2013-09-07</td>\n",
       "      <td>78.0</td>\n",
       "      <td>51.0</td>\n",
       "      <td>65.0</td>\n",
       "      <td>48.0</td>\n",
       "      <td>NaN</td>\n",
       "      <td>0.0</td>\n",
       "      <td>0.0</td>\n",
       "      <td>516.0</td>\n",
       "      <td>...</td>\n",
       "      <td>0.000</td>\n",
       "      <td>0.000</td>\n",
       "      <td>NaN</td>\n",
       "      <td>30.00</td>\n",
       "      <td>10.7</td>\n",
       "      <td>23.0</td>\n",
       "      <td>11.6</td>\n",
       "      <td>0</td>\n",
       "      <td>2013</td>\n",
       "      <td>summer</td>\n",
       "    </tr>\n",
       "    <tr>\n",
       "      <th>8262</th>\n",
       "      <td>15</td>\n",
       "      <td>2013-02-24</td>\n",
       "      <td>33.0</td>\n",
       "      <td>29.0</td>\n",
       "      <td>31.0</td>\n",
       "      <td>30.0</td>\n",
       "      <td>31.0</td>\n",
       "      <td>34.0</td>\n",
       "      <td>0.0</td>\n",
       "      <td>631.0</td>\n",
       "      <td>...</td>\n",
       "      <td>13.100</td>\n",
       "      <td>0.970</td>\n",
       "      <td>29.46</td>\n",
       "      <td>29.84</td>\n",
       "      <td>4.7</td>\n",
       "      <td>1.0</td>\n",
       "      <td>4.9</td>\n",
       "      <td>4</td>\n",
       "      <td>2013</td>\n",
       "      <td>winter</td>\n",
       "    </tr>\n",
       "    <tr>\n",
       "      <th>4102</th>\n",
       "      <td>15</td>\n",
       "      <td>2012-07-31</td>\n",
       "      <td>82.0</td>\n",
       "      <td>59.0</td>\n",
       "      <td>71.0</td>\n",
       "      <td>61.0</td>\n",
       "      <td>64.0</td>\n",
       "      <td>0.0</td>\n",
       "      <td>6.0</td>\n",
       "      <td>435.0</td>\n",
       "      <td>...</td>\n",
       "      <td>NaN</td>\n",
       "      <td>0.000</td>\n",
       "      <td>29.67</td>\n",
       "      <td>30.03</td>\n",
       "      <td>3.6</td>\n",
       "      <td>14.0</td>\n",
       "      <td>5.1</td>\n",
       "      <td>1</td>\n",
       "      <td>2012</td>\n",
       "      <td>summer</td>\n",
       "    </tr>\n",
       "    <tr>\n",
       "      <th>19694</th>\n",
       "      <td>18</td>\n",
       "      <td>2014-09-20</td>\n",
       "      <td>93.0</td>\n",
       "      <td>72.0</td>\n",
       "      <td>83.0</td>\n",
       "      <td>65.0</td>\n",
       "      <td>71.0</td>\n",
       "      <td>0.0</td>\n",
       "      <td>18.0</td>\n",
       "      <td>614.0</td>\n",
       "      <td>...</td>\n",
       "      <td>0.000</td>\n",
       "      <td>0.000</td>\n",
       "      <td>29.45</td>\n",
       "      <td>29.95</td>\n",
       "      <td>8.5</td>\n",
       "      <td>14.0</td>\n",
       "      <td>9.0</td>\n",
       "      <td>0</td>\n",
       "      <td>2014</td>\n",
       "      <td>summer</td>\n",
       "    </tr>\n",
       "    <tr>\n",
       "      <th>5653</th>\n",
       "      <td>6</td>\n",
       "      <td>2012-10-17</td>\n",
       "      <td>89.0</td>\n",
       "      <td>65.0</td>\n",
       "      <td>77.0</td>\n",
       "      <td>65.0</td>\n",
       "      <td>68.0</td>\n",
       "      <td>0.0</td>\n",
       "      <td>12.0</td>\n",
       "      <td>634.0</td>\n",
       "      <td>...</td>\n",
       "      <td>0.000</td>\n",
       "      <td>0.000</td>\n",
       "      <td>29.18</td>\n",
       "      <td>29.70</td>\n",
       "      <td>5.7</td>\n",
       "      <td>20.0</td>\n",
       "      <td>8.5</td>\n",
       "      <td>1</td>\n",
       "      <td>2012</td>\n",
       "      <td>autumn</td>\n",
       "    </tr>\n",
       "    <tr>\n",
       "      <th>2925</th>\n",
       "      <td>18</td>\n",
       "      <td>2012-06-02</td>\n",
       "      <td>97.0</td>\n",
       "      <td>71.0</td>\n",
       "      <td>84.0</td>\n",
       "      <td>61.0</td>\n",
       "      <td>69.0</td>\n",
       "      <td>0.0</td>\n",
       "      <td>19.0</td>\n",
       "      <td>520.0</td>\n",
       "      <td>...</td>\n",
       "      <td>0.000</td>\n",
       "      <td>0.001</td>\n",
       "      <td>29.34</td>\n",
       "      <td>29.84</td>\n",
       "      <td>10.1</td>\n",
       "      <td>18.0</td>\n",
       "      <td>11.0</td>\n",
       "      <td>1</td>\n",
       "      <td>2012</td>\n",
       "      <td>spring</td>\n",
       "    </tr>\n",
       "    <tr>\n",
       "      <th>8866</th>\n",
       "      <td>19</td>\n",
       "      <td>2013-03-26</td>\n",
       "      <td>41.0</td>\n",
       "      <td>31.0</td>\n",
       "      <td>36.0</td>\n",
       "      <td>24.0</td>\n",
       "      <td>31.0</td>\n",
       "      <td>29.0</td>\n",
       "      <td>0.0</td>\n",
       "      <td>545.0</td>\n",
       "      <td>...</td>\n",
       "      <td>0.001</td>\n",
       "      <td>0.001</td>\n",
       "      <td>29.43</td>\n",
       "      <td>30.17</td>\n",
       "      <td>8.2</td>\n",
       "      <td>32.0</td>\n",
       "      <td>8.4</td>\n",
       "      <td>1</td>\n",
       "      <td>2013</td>\n",
       "      <td>winter</td>\n",
       "    </tr>\n",
       "  </tbody>\n",
       "</table>\n",
       "<p>20 rows × 21 columns</p>\n",
       "</div>"
      ],
      "text/plain": [
       "       station_nbr       date  tmax  tmin  tavg  dewpoint  wetbulb  heat  \\\n",
       "10367           20 2013-06-09  89.0  68.0  79.0      66.0     70.0   0.0   \n",
       "20283            7 2014-10-20  82.0  59.0  71.0      59.0     63.0   0.0   \n",
       "954              6 2012-02-20  69.0  45.0  57.0      52.0     54.0   8.0   \n",
       "9835             8 2013-05-14  85.0  62.0  74.0      67.0     69.0   0.0   \n",
       "7402            15 2013-01-12  39.0  32.0  36.0      35.0     35.0  29.0   \n",
       "4330             3 2012-08-12  99.0  73.0  86.0      61.0     69.0   0.0   \n",
       "19296           20 2014-08-31  97.0  76.0  87.0      70.0     75.0   0.0   \n",
       "3836             9 2012-07-18  82.0  71.0  77.0      69.0     71.0   0.0   \n",
       "1380            14 2012-03-13  80.0  51.0  66.0      54.0     59.0   0.0   \n",
       "8047            20 2013-02-13  57.0  39.0  48.0      34.0     41.0  17.0   \n",
       "8465            18 2013-03-06  62.0  37.0  50.0      18.0     38.0  15.0   \n",
       "554              4 2012-01-30  64.0  41.0  53.0      48.0     51.0  12.0   \n",
       "16453           17 2014-04-11  81.0  51.0  66.0      53.0     59.0   0.0   \n",
       "12121            5 2013-09-07  78.0  51.0  65.0      48.0      NaN   0.0   \n",
       "8262            15 2013-02-24  33.0  29.0  31.0      30.0     31.0  34.0   \n",
       "4102            15 2012-07-31  82.0  59.0  71.0      61.0     64.0   0.0   \n",
       "19694           18 2014-09-20  93.0  72.0  83.0      65.0     71.0   0.0   \n",
       "5653             6 2012-10-17  89.0  65.0  77.0      65.0     68.0   0.0   \n",
       "2925            18 2012-06-02  97.0  71.0  84.0      61.0     69.0   0.0   \n",
       "8866            19 2013-03-26  41.0  31.0  36.0      24.0     31.0  29.0   \n",
       "\n",
       "       cool  sunrise  ...  snowfall  preciptotal  stnpressure  sealevel  \\\n",
       "10367  14.0      NaN  ...     0.000        0.320        29.19     29.87   \n",
       "20283   6.0      NaN  ...     0.000        0.000        28.65     30.01   \n",
       "954     0.0    706.0  ...     0.000        0.000        29.52     30.05   \n",
       "9835    9.0      NaN  ...       NaN        0.000        29.78       NaN   \n",
       "7402    0.0    716.0  ...     0.000        0.030        29.78     30.16   \n",
       "4330   21.0    539.0  ...     0.000        0.001        29.15     29.85   \n",
       "19296  22.0      NaN  ...     0.000        0.000        29.20     29.89   \n",
       "3836   12.0      NaN  ...       NaN        0.650        29.15     29.87   \n",
       "1380    1.0    644.0  ...     0.000        0.000        28.59     29.95   \n",
       "8047    0.0      NaN  ...     0.000        0.000        29.35     30.07   \n",
       "8465    0.0    649.0  ...     0.000        0.000        29.79     30.31   \n",
       "554     0.0    723.0  ...     0.000        0.200        29.50     30.24   \n",
       "16453   1.0      NaN  ...     0.000        0.000        29.26     29.96   \n",
       "12121   0.0    516.0  ...     0.000        0.000          NaN     30.00   \n",
       "8262    0.0    631.0  ...    13.100        0.970        29.46     29.84   \n",
       "4102    6.0    435.0  ...       NaN        0.000        29.67     30.03   \n",
       "19694  18.0    614.0  ...     0.000        0.000        29.45     29.95   \n",
       "5653   12.0    634.0  ...     0.000        0.000        29.18     29.70   \n",
       "2925   19.0    520.0  ...     0.000        0.001        29.34     29.84   \n",
       "8866    0.0    545.0  ...     0.001        0.001        29.43     30.17   \n",
       "\n",
       "       resultspeed  resultdir  avgspeed  Weather  year  season  \n",
       "10367          0.3        1.0       7.8        2  2013  spring  \n",
       "20283          4.8       19.0       7.0        0  2014  autumn  \n",
       "954            7.1       18.0       7.3        3  2012  winter  \n",
       "9835           7.4       17.0       7.6        1  2013  spring  \n",
       "7402           1.5       15.0       1.8        3  2013  winter  \n",
       "4330           5.5       16.0       9.3        0  2012  summer  \n",
       "19296          9.0       16.0      10.3        0  2014  summer  \n",
       "3836           5.8        8.0       7.1        3  2012  summer  \n",
       "1380          14.9       18.0      15.2        1  2012  winter  \n",
       "8047           4.2       31.0       7.3        0  2013  winter  \n",
       "8465           2.7        6.0       5.2        0  2013  winter  \n",
       "554            2.5       18.0       3.9        2  2012  winter  \n",
       "16453          3.3       14.0       6.4        0  2014  spring  \n",
       "12121         10.7       23.0      11.6        0  2013  summer  \n",
       "8262           4.7        1.0       4.9        4  2013  winter  \n",
       "4102           3.6       14.0       5.1        1  2012  summer  \n",
       "19694          8.5       14.0       9.0        0  2014  summer  \n",
       "5653           5.7       20.0       8.5        1  2012  autumn  \n",
       "2925          10.1       18.0      11.0        1  2012  spring  \n",
       "8866           8.2       32.0       8.4        1  2013  winter  \n",
       "\n",
       "[20 rows x 21 columns]"
      ]
     },
     "metadata": {},
     "output_type": "display_data"
    }
   ],
   "source": [
    "display(weather.sample(20))"
   ]
  },
  {
   "cell_type": "code",
   "execution_count": 15,
   "metadata": {},
   "outputs": [
    {
     "name": "stdout",
     "output_type": "stream",
     "text": [
      "<class 'pandas.core.frame.DataFrame'>\n",
      "RangeIndex: 20517 entries, 0 to 20516\n",
      "Data columns (total 21 columns):\n",
      " #   Column       Non-Null Count  Dtype         \n",
      "---  ------       --------------  -----         \n",
      " 0   station_nbr  20517 non-null  int64         \n",
      " 1   date         20517 non-null  datetime64[ns]\n",
      " 2   tmax         19611 non-null  float64       \n",
      " 3   tmin         19609 non-null  float64       \n",
      " 4   tavg         19048 non-null  float64       \n",
      " 5   dewpoint     19851 non-null  float64       \n",
      " 6   wetbulb      19265 non-null  float64       \n",
      " 7   heat         19048 non-null  float64       \n",
      " 8   cool         19048 non-null  float64       \n",
      " 9   sunrise      10861 non-null  float64       \n",
      " 10  sunset       10861 non-null  float64       \n",
      " 11  snowfall     13293 non-null  float64       \n",
      " 12  preciptotal  19657 non-null  float64       \n",
      " 13  stnpressure  19588 non-null  float64       \n",
      " 14  sealevel     18793 non-null  float64       \n",
      " 15  resultspeed  19928 non-null  float64       \n",
      " 16  resultdir    19928 non-null  float64       \n",
      " 17  avgspeed     19642 non-null  float64       \n",
      " 18  Weather      20517 non-null  int64         \n",
      " 19  year         20517 non-null  int64         \n",
      " 20  season       20517 non-null  object        \n",
      "dtypes: datetime64[ns](1), float64(16), int64(3), object(1)\n",
      "memory usage: 3.3+ MB\n"
     ]
    },
    {
     "data": {
      "text/plain": [
       "None"
      ]
     },
     "metadata": {},
     "output_type": "display_data"
    }
   ],
   "source": [
    "display(weather.info())"
   ]
  },
  {
   "cell_type": "code",
   "execution_count": 16,
   "metadata": {},
   "outputs": [
    {
     "data": {
      "text/plain": [
       "'station_nbr'"
      ]
     },
     "metadata": {},
     "output_type": "display_data"
    },
    {
     "data": {
      "text/plain": [
       "0"
      ]
     },
     "metadata": {},
     "output_type": "display_data"
    },
    {
     "data": {
      "text/plain": [
       "'date'"
      ]
     },
     "metadata": {},
     "output_type": "display_data"
    },
    {
     "data": {
      "text/plain": [
       "0"
      ]
     },
     "metadata": {},
     "output_type": "display_data"
    },
    {
     "data": {
      "text/plain": [
       "'tmax'"
      ]
     },
     "metadata": {},
     "output_type": "display_data"
    },
    {
     "data": {
      "text/plain": [
       "906"
      ]
     },
     "metadata": {},
     "output_type": "display_data"
    },
    {
     "data": {
      "text/plain": [
       "'tmin'"
      ]
     },
     "metadata": {},
     "output_type": "display_data"
    },
    {
     "data": {
      "text/plain": [
       "908"
      ]
     },
     "metadata": {},
     "output_type": "display_data"
    },
    {
     "data": {
      "text/plain": [
       "'tavg'"
      ]
     },
     "metadata": {},
     "output_type": "display_data"
    },
    {
     "data": {
      "text/plain": [
       "1469"
      ]
     },
     "metadata": {},
     "output_type": "display_data"
    },
    {
     "data": {
      "text/plain": [
       "'dewpoint'"
      ]
     },
     "metadata": {},
     "output_type": "display_data"
    },
    {
     "data": {
      "text/plain": [
       "666"
      ]
     },
     "metadata": {},
     "output_type": "display_data"
    },
    {
     "data": {
      "text/plain": [
       "'wetbulb'"
      ]
     },
     "metadata": {},
     "output_type": "display_data"
    },
    {
     "data": {
      "text/plain": [
       "1252"
      ]
     },
     "metadata": {},
     "output_type": "display_data"
    },
    {
     "data": {
      "text/plain": [
       "'heat'"
      ]
     },
     "metadata": {},
     "output_type": "display_data"
    },
    {
     "data": {
      "text/plain": [
       "1469"
      ]
     },
     "metadata": {},
     "output_type": "display_data"
    },
    {
     "data": {
      "text/plain": [
       "'cool'"
      ]
     },
     "metadata": {},
     "output_type": "display_data"
    },
    {
     "data": {
      "text/plain": [
       "1469"
      ]
     },
     "metadata": {},
     "output_type": "display_data"
    },
    {
     "data": {
      "text/plain": [
       "'sunrise'"
      ]
     },
     "metadata": {},
     "output_type": "display_data"
    },
    {
     "data": {
      "text/plain": [
       "9656"
      ]
     },
     "metadata": {},
     "output_type": "display_data"
    },
    {
     "data": {
      "text/plain": [
       "'sunset'"
      ]
     },
     "metadata": {},
     "output_type": "display_data"
    },
    {
     "data": {
      "text/plain": [
       "9656"
      ]
     },
     "metadata": {},
     "output_type": "display_data"
    },
    {
     "data": {
      "text/plain": [
       "'snowfall'"
      ]
     },
     "metadata": {},
     "output_type": "display_data"
    },
    {
     "data": {
      "text/plain": [
       "7224"
      ]
     },
     "metadata": {},
     "output_type": "display_data"
    },
    {
     "data": {
      "text/plain": [
       "'preciptotal'"
      ]
     },
     "metadata": {},
     "output_type": "display_data"
    },
    {
     "data": {
      "text/plain": [
       "860"
      ]
     },
     "metadata": {},
     "output_type": "display_data"
    },
    {
     "data": {
      "text/plain": [
       "'stnpressure'"
      ]
     },
     "metadata": {},
     "output_type": "display_data"
    },
    {
     "data": {
      "text/plain": [
       "929"
      ]
     },
     "metadata": {},
     "output_type": "display_data"
    },
    {
     "data": {
      "text/plain": [
       "'sealevel'"
      ]
     },
     "metadata": {},
     "output_type": "display_data"
    },
    {
     "data": {
      "text/plain": [
       "1724"
      ]
     },
     "metadata": {},
     "output_type": "display_data"
    },
    {
     "data": {
      "text/plain": [
       "'resultspeed'"
      ]
     },
     "metadata": {},
     "output_type": "display_data"
    },
    {
     "data": {
      "text/plain": [
       "589"
      ]
     },
     "metadata": {},
     "output_type": "display_data"
    },
    {
     "data": {
      "text/plain": [
       "'resultdir'"
      ]
     },
     "metadata": {},
     "output_type": "display_data"
    },
    {
     "data": {
      "text/plain": [
       "589"
      ]
     },
     "metadata": {},
     "output_type": "display_data"
    },
    {
     "data": {
      "text/plain": [
       "'avgspeed'"
      ]
     },
     "metadata": {},
     "output_type": "display_data"
    },
    {
     "data": {
      "text/plain": [
       "875"
      ]
     },
     "metadata": {},
     "output_type": "display_data"
    },
    {
     "data": {
      "text/plain": [
       "'Weather'"
      ]
     },
     "metadata": {},
     "output_type": "display_data"
    },
    {
     "data": {
      "text/plain": [
       "0"
      ]
     },
     "metadata": {},
     "output_type": "display_data"
    },
    {
     "data": {
      "text/plain": [
       "'year'"
      ]
     },
     "metadata": {},
     "output_type": "display_data"
    },
    {
     "data": {
      "text/plain": [
       "0"
      ]
     },
     "metadata": {},
     "output_type": "display_data"
    },
    {
     "data": {
      "text/plain": [
       "'season'"
      ]
     },
     "metadata": {},
     "output_type": "display_data"
    },
    {
     "data": {
      "text/plain": [
       "0"
      ]
     },
     "metadata": {},
     "output_type": "display_data"
    }
   ],
   "source": [
    "for i in weather.columns:\n",
    "    display(i,weather[i].isna().sum())"
   ]
  },
  {
   "cell_type": "code",
   "execution_count": 17,
   "metadata": {},
   "outputs": [
    {
     "name": "stdout",
     "output_type": "stream",
     "text": [
      "<class 'pandas.core.frame.DataFrame'>\n",
      "RangeIndex: 20022 entries, 0 to 20021\n",
      "Data columns (total 21 columns):\n",
      " #   Column       Non-Null Count  Dtype         \n",
      "---  ------       --------------  -----         \n",
      " 0   station_nbr  20022 non-null  int64         \n",
      " 1   date         20022 non-null  datetime64[ns]\n",
      " 2   tmax         19608 non-null  float64       \n",
      " 3   tmin         19607 non-null  float64       \n",
      " 4   tavg         19048 non-null  float64       \n",
      " 5   dewpoint     19816 non-null  float64       \n",
      " 6   wetbulb      19261 non-null  float64       \n",
      " 7   heat         19048 non-null  float64       \n",
      " 8   cool         19048 non-null  float64       \n",
      " 9   sunrise      10416 non-null  float64       \n",
      " 10  sunset       10416 non-null  float64       \n",
      " 11  snowfall     13292 non-null  float64       \n",
      " 12  preciptotal  19648 non-null  float64       \n",
      " 13  stnpressure  19581 non-null  float64       \n",
      " 14  sealevel     18763 non-null  float64       \n",
      " 15  resultspeed  19892 non-null  float64       \n",
      " 16  resultdir    19892 non-null  float64       \n",
      " 17  avgspeed     19640 non-null  float64       \n",
      " 18  Weather      20022 non-null  int64         \n",
      " 19  year         20022 non-null  int64         \n",
      " 20  season       20022 non-null  object        \n",
      "dtypes: datetime64[ns](1), float64(16), int64(3), object(1)\n",
      "memory usage: 3.2+ MB\n"
     ]
    },
    {
     "data": {
      "text/plain": [
       "None"
      ]
     },
     "metadata": {},
     "output_type": "display_data"
    }
   ],
   "source": [
    "weather.dropna(axis=0, how='any', thresh=10, subset=None, inplace=True)\n",
    "weather = weather.reset_index(drop=True)\n",
    "display(weather.info())"
   ]
  },
  {
   "cell_type": "code",
   "execution_count": 18,
   "metadata": {},
   "outputs": [
    {
     "name": "stdout",
     "output_type": "stream",
     "text": [
      "<class 'pandas.core.frame.DataFrame'>\n",
      "RangeIndex: 20022 entries, 0 to 20021\n",
      "Data columns (total 19 columns):\n",
      " #   Column       Non-Null Count  Dtype         \n",
      "---  ------       --------------  -----         \n",
      " 0   station_nbr  20022 non-null  int64         \n",
      " 1   date         20022 non-null  datetime64[ns]\n",
      " 2   tmax         19608 non-null  float64       \n",
      " 3   tmin         19607 non-null  float64       \n",
      " 4   tavg         19048 non-null  float64       \n",
      " 5   dewpoint     19816 non-null  float64       \n",
      " 6   wetbulb      19261 non-null  float64       \n",
      " 7   heat         19048 non-null  float64       \n",
      " 8   cool         19048 non-null  float64       \n",
      " 9   snowfall     13292 non-null  float64       \n",
      " 10  preciptotal  19648 non-null  float64       \n",
      " 11  stnpressure  19581 non-null  float64       \n",
      " 12  sealevel     18763 non-null  float64       \n",
      " 13  resultspeed  19892 non-null  float64       \n",
      " 14  resultdir    19892 non-null  float64       \n",
      " 15  avgspeed     19640 non-null  float64       \n",
      " 16  Weather      20022 non-null  int64         \n",
      " 17  year         20022 non-null  int64         \n",
      " 18  season       20022 non-null  object        \n",
      "dtypes: datetime64[ns](1), float64(14), int64(3), object(1)\n",
      "memory usage: 2.9+ MB\n"
     ]
    },
    {
     "data": {
      "text/plain": [
       "None"
      ]
     },
     "metadata": {},
     "output_type": "display_data"
    }
   ],
   "source": [
    "# will drop columns with 50% or more null values\n",
    "weather.dropna(axis =1, how='any', thresh=12000, subset=None, inplace=True)\n",
    "display(weather.info())"
   ]
  },
  {
   "cell_type": "code",
   "execution_count": null,
   "metadata": {},
   "outputs": [],
   "source": []
  }
 ],
 "metadata": {
  "kernelspec": {
   "display_name": "Python 3",
   "language": "python",
   "name": "python3"
  },
  "language_info": {
   "codemirror_mode": {
    "name": "ipython",
    "version": 3
   },
   "file_extension": ".py",
   "mimetype": "text/x-python",
   "name": "python",
   "nbconvert_exporter": "python",
   "pygments_lexer": "ipython3",
   "version": "3.8.5"
  }
 },
 "nbformat": 4,
 "nbformat_minor": 4
}
